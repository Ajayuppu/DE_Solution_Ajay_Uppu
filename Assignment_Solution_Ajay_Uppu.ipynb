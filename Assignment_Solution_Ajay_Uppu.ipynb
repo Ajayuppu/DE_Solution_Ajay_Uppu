{
  "nbformat": 4,
  "nbformat_minor": 0,
  "metadata": {
    "colab": {
      "name": "Assignment_Solution_Ajay_Uppu.ipynb",
      "provenance": [],
      "collapsed_sections": [],
      "include_colab_link": true
    },
    "kernelspec": {
      "name": "python3",
      "display_name": "Python 3"
    },
    "language_info": {
      "name": "python"
    }
  },
  "cells": [
    {
      "cell_type": "markdown",
      "metadata": {
        "id": "view-in-github",
        "colab_type": "text"
      },
      "source": [
        "<a href=\"https://colab.research.google.com/github/Ajayuppu/DE_Solution_Ajay_Uppu/blob/main/Assignment_Solution_Ajay_Uppu.ipynb\" target=\"_parent\"><img src=\"https://colab.research.google.com/assets/colab-badge.svg\" alt=\"Open In Colab\"/></a>"
      ]
    },
    {
      "cell_type": "code",
      "execution_count": 83,
      "metadata": {
        "colab": {
          "base_uri": "https://localhost:8080/"
        },
        "id": "BgZlJRKDBcN5",
        "outputId": "0564dbb8-db62-4cf7-99ac-e69161f544bb"
      },
      "outputs": [
        {
          "output_type": "stream",
          "name": "stdout",
          "text": [
            "\r0% [Working]\r            \rHit:1 https://cloud.r-project.org/bin/linux/ubuntu bionic-cran40/ InRelease\n",
            "\r0% [Connecting to archive.ubuntu.com] [Connecting to security.ubuntu.com (185.1\r0% [1 InRelease gpgv 3,626 B] [Connecting to archive.ubuntu.com] [Connecting to\r                                                                               \rIgn:2 https://developer.download.nvidia.com/compute/machine-learning/repos/ubuntu1804/x86_64  InRelease\n",
            "Hit:3 https://developer.download.nvidia.com/compute/cuda/repos/ubuntu1804/x86_64  InRelease\n",
            "Hit:4 https://developer.download.nvidia.com/compute/machine-learning/repos/ubuntu1804/x86_64  Release\n",
            "Hit:5 http://archive.ubuntu.com/ubuntu bionic InRelease\n",
            "Hit:6 http://security.ubuntu.com/ubuntu bionic-security InRelease\n",
            "Hit:7 http://archive.ubuntu.com/ubuntu bionic-updates InRelease\n",
            "Hit:8 http://archive.ubuntu.com/ubuntu bionic-backports InRelease\n",
            "Hit:9 http://ppa.launchpad.net/c2d4u.team/c2d4u4.0+/ubuntu bionic InRelease\n",
            "Hit:11 http://ppa.launchpad.net/cran/libgit2/ubuntu bionic InRelease\n",
            "Hit:12 http://ppa.launchpad.net/deadsnakes/ppa/ubuntu bionic InRelease\n",
            "Hit:13 http://ppa.launchpad.net/graphics-drivers/ppa/ubuntu bionic InRelease\n",
            "Reading package lists... Done\n"
          ]
        }
      ],
      "source": [
        "!apt-get update -y"
      ]
    },
    {
      "cell_type": "code",
      "source": [
        "!apt-get install openjdk-8-jdk-headless -qq > /dev/null"
      ],
      "metadata": {
        "id": "IcphXJ3vB5wH"
      },
      "execution_count": 84,
      "outputs": []
    },
    {
      "cell_type": "code",
      "source": [
        "!wget -q https://archive.apache.org/dist/spark/spark-3.1.2/spark-3.1.2-bin-hadoop2.7.tgz"
      ],
      "metadata": {
        "id": "X4oka-8LCUzc"
      },
      "execution_count": 85,
      "outputs": []
    },
    {
      "cell_type": "code",
      "source": [
        "!tar xf spark-3.1.2-bin-hadoop2.7.tgz"
      ],
      "metadata": {
        "id": "t8u-eulsCzZ8"
      },
      "execution_count": 86,
      "outputs": []
    },
    {
      "cell_type": "code",
      "source": [
        "import os\n",
        "os.environ[\"JAVA_HOME\"] = \"/usr/lib/jvm/java-8-openjdk-amd64\"\n",
        "os.environ[\"SPARK_HOME\"] = \"/content/spark-3.1.2-bin-hadoop2.7\""
      ],
      "metadata": {
        "id": "q4HCQrNTDHMX"
      },
      "execution_count": 87,
      "outputs": []
    },
    {
      "cell_type": "code",
      "source": [
        "!pip install -q findspark\n",
        "import findspark\n",
        "findspark.init()"
      ],
      "metadata": {
        "id": "yL7-bfvaDS-G"
      },
      "execution_count": 88,
      "outputs": []
    },
    {
      "cell_type": "code",
      "source": [
        "import warnings\n",
        "from pyspark.sql import SparkSession\n",
        "spark = (SparkSession\n",
        ".builder\n",
        ".appName(\"<app_name>\")\n",
        ".getOrCreate())"
      ],
      "metadata": {
        "id": "l1wQliTiD3AJ"
      },
      "execution_count": 89,
      "outputs": []
    },
    {
      "cell_type": "code",
      "source": [
        "pip install gdown"
      ],
      "metadata": {
        "id": "1EUmH6FzLuyq",
        "colab": {
          "base_uri": "https://localhost:8080/"
        },
        "outputId": "56750add-ecdb-4286-d53d-7ea0f0d2310b"
      },
      "execution_count": 90,
      "outputs": [
        {
          "output_type": "stream",
          "name": "stdout",
          "text": [
            "Looking in indexes: https://pypi.org/simple, https://us-python.pkg.dev/colab-wheels/public/simple/\n",
            "Requirement already satisfied: gdown in /usr/local/lib/python3.7/dist-packages (4.4.0)\n",
            "Requirement already satisfied: beautifulsoup4 in /usr/local/lib/python3.7/dist-packages (from gdown) (4.6.3)\n",
            "Requirement already satisfied: six in /usr/local/lib/python3.7/dist-packages (from gdown) (1.15.0)\n",
            "Requirement already satisfied: requests[socks] in /usr/local/lib/python3.7/dist-packages (from gdown) (2.23.0)\n",
            "Requirement already satisfied: tqdm in /usr/local/lib/python3.7/dist-packages (from gdown) (4.64.0)\n",
            "Requirement already satisfied: filelock in /usr/local/lib/python3.7/dist-packages (from gdown) (3.8.0)\n",
            "Requirement already satisfied: urllib3!=1.25.0,!=1.25.1,<1.26,>=1.21.1 in /usr/local/lib/python3.7/dist-packages (from requests[socks]->gdown) (1.24.3)\n",
            "Requirement already satisfied: chardet<4,>=3.0.2 in /usr/local/lib/python3.7/dist-packages (from requests[socks]->gdown) (3.0.4)\n",
            "Requirement already satisfied: certifi>=2017.4.17 in /usr/local/lib/python3.7/dist-packages (from requests[socks]->gdown) (2022.6.15)\n",
            "Requirement already satisfied: idna<3,>=2.5 in /usr/local/lib/python3.7/dist-packages (from requests[socks]->gdown) (2.10)\n",
            "Requirement already satisfied: PySocks!=1.5.7,>=1.5.6 in /usr/local/lib/python3.7/dist-packages (from requests[socks]->gdown) (1.7.1)\n"
          ]
        }
      ]
    },
    {
      "cell_type": "code",
      "source": [
        "import gdown\n",
        "url = \"https://drive.google.com/drive/folders/1QgWPHV_l25Ui9L7et8mkZohAOG59UTkQ\"\n",
        "gdown .download_folder(url, quiet=True, use_cookies=False)"
      ],
      "metadata": {
        "colab": {
          "base_uri": "https://localhost:8080/"
        },
        "id": "U1rtVAuwWbu9",
        "outputId": "c8361dd9-89c7-43ed-bb5d-56f4d2d3ebc8"
      },
      "execution_count": 91,
      "outputs": [
        {
          "output_type": "execute_result",
          "data": {
            "text/plain": [
              "['/content/chess/chess_schema.png',\n",
              " '/content/chess/chess_wc_history_game_info.csv',\n",
              " '/content/chess/chess_wc_history_moves.csv',\n",
              " '/content/chess/eco_codes.csv']"
            ]
          },
          "metadata": {},
          "execution_count": 91
        }
      ]
    },
    {
      "cell_type": "code",
      "source": [
        "chess_wc_game=spark.read.csv(\"/content/chess/chess_wc_history_game_info.csv\",header=True)"
      ],
      "metadata": {
        "id": "VX8FzPUNa8-V"
      },
      "execution_count": 92,
      "outputs": []
    },
    {
      "cell_type": "code",
      "source": [
        "chess_wc_game.show()"
      ],
      "metadata": {
        "colab": {
          "base_uri": "https://localhost:8080/"
        },
        "id": "1yOmDNrUbfBH",
        "outputId": "7b76bc8e-bd31-45a2-930a-7f19e279d344"
      },
      "execution_count": 93,
      "outputs": [
        {
          "output_type": "stream",
          "name": "stdout",
          "text": [
            "+--------------------+----------+--------+----------+-----------+-----+----------------+----------------+-------+---------+---------+-----------+-----------+---------+----------+----------------+---------+---------------------+---+--------------------+---------------+\n",
            "|             game_id|game_order|   event|      site|date_played|round|           white|           black| result|white_elo|black_elo|white_title|black_title|   winner|winner_elo|           loser|loser_elo|winner_loser_elo_diff|eco|        date_created|tournament_name|\n",
            "+--------------------+----------+--------+----------+-----------+-----+----------------+----------------+-------+---------+---------+-----------+-----------+---------+----------+----------------+---------+---------------------+---+--------------------+---------------+\n",
            "|86e0b7f5-7b94-4ae...|         1|WCh 2021| Dubai UAE| 2021.11.26|    1|Nepomniachtchi,I|       Carlsen,M|1/2-1/2|     2782|     2855|       null|       null|     draw|      null|            draw|     null|                    0|C88|2022-07-22T22:33:...| WorldChamp2021|\n",
            "|dc4a10ab-54cf-49d...|         2|WCh 2021| Dubai UAE| 2021.11.27|    2|       Carlsen,M|Nepomniachtchi,I|1/2-1/2|     2855|     2782|       null|       null|     draw|      null|            draw|     null|                    0|E06|2022-07-22T22:33:...| WorldChamp2021|\n",
            "|f042ca37-8899-488...|         3|WCh 2021| Dubai UAE| 2021.11.28|    3|Nepomniachtchi,I|       Carlsen,M|1/2-1/2|     2782|     2855|       null|       null|     draw|      null|            draw|     null|                    0|C88|2022-07-22T22:33:...| WorldChamp2021|\n",
            "|f70e4bbc-21e3-46f...|         4|WCh 2021| Dubai UAE| 2021.11.30|    4|       Carlsen,M|Nepomniachtchi,I|1/2-1/2|     2855|     2782|       null|       null|     draw|      null|            draw|     null|                    0|C42|2022-07-22T22:33:...| WorldChamp2021|\n",
            "|c941c323-308a-4c8...|         5|WCh 2021| Dubai UAE| 2021.12.01|    5|Nepomniachtchi,I|       Carlsen,M|1/2-1/2|     2782|     2855|       null|       null|     draw|      null|            draw|     null|                    0|C88|2022-07-22T22:33:...| WorldChamp2021|\n",
            "|58e83255-93bb-4d5...|         6|WCh 2021| Dubai UAE| 2021.12.03|    6|       Carlsen,M|Nepomniachtchi,I|    1-0|     2855|     2782|       null|       null|Carlsen,M|      2855|Nepomniachtchi,I|     2782|                   73|D02|2022-07-22T22:33:...| WorldChamp2021|\n",
            "|29181d93-73f4-4fb...|         7|WCh 2021| Dubai UAE| 2021.12.04|    7|Nepomniachtchi,I|       Carlsen,M|1/2-1/2|     2782|     2855|       null|       null|     draw|      null|            draw|     null|                    0|C88|2022-07-22T22:33:...| WorldChamp2021|\n",
            "|8a4ccd8c-d437-429...|         8|WCh 2021| Dubai UAE| 2021.12.05|    8|       Carlsen,M|Nepomniachtchi,I|    1-0|     2855|     2782|       null|       null|Carlsen,M|      2855|Nepomniachtchi,I|     2782|                   73|C43|2022-07-22T22:33:...| WorldChamp2021|\n",
            "|55a122db-27d1-495...|         9|WCh 2021| Dubai UAE| 2021.12.07|    9|Nepomniachtchi,I|       Carlsen,M|    0-1|     2782|     2855|       null|       null|Carlsen,M|      2855|Nepomniachtchi,I|     2782|                   73|A13|2022-07-22T22:33:...| WorldChamp2021|\n",
            "|1f900d18-5ea3-4f4...|        10|WCh 2021| Dubai UAE| 2021.12.08|   10|       Carlsen,M|Nepomniachtchi,I|1/2-1/2|     2855|     2782|       null|       null|     draw|      null|            draw|     null|                    0|C42|2022-07-22T22:33:...| WorldChamp2021|\n",
            "|c512a953-a341-47c...|        11|WCh 2021| Dubai UAE| 2021.12.10|   11|Nepomniachtchi,I|       Carlsen,M|    0-1|     2782|     2855|       null|       null|Carlsen,M|      2855|Nepomniachtchi,I|     2782|                   73|C50|2022-07-22T22:33:...| WorldChamp2021|\n",
            "|99d39a93-427e-4d1...|         1|WCh 2018|London ENG| 2018.11.09|    1|Caruana, Fabiano| Carlsen, Magnus|1/2-1/2|     2832|     2835|         GM|         GM|     draw|      null|            draw|     null|                    0|B31|2022-07-22T22:33:...| WorldChamp2018|\n",
            "|c87ceb3e-67a7-45d...|         2|WCh 2018|London ENG| 2018.11.10|    2| Carlsen, Magnus|Caruana, Fabiano|1/2-1/2|     2835|     2832|         GM|         GM|     draw|      null|            draw|     null|                    0|D37|2022-07-22T22:33:...| WorldChamp2018|\n",
            "|d50510ea-9c1a-460...|         3|WCh 2018|London ENG| 2018.11.12|    3|Caruana, Fabiano| Carlsen, Magnus|1/2-1/2|     2832|     2835|         GM|         GM|     draw|      null|            draw|     null|                    0|B31|2022-07-22T22:33:...| WorldChamp2018|\n",
            "|e899e16a-281e-41b...|         4|WCh 2018|London ENG| 2018.11.13|    4| Carlsen, Magnus|Caruana, Fabiano|1/2-1/2|     2835|     2832|         GM|         GM|     draw|      null|            draw|     null|                    0|A29|2022-07-22T22:33:...| WorldChamp2018|\n",
            "|59f8da88-fd21-405...|         5|WCh 2018|London ENG| 2018.11.15|    5|Caruana, Fabiano| Carlsen, Magnus|1/2-1/2|     2832|     2835|         GM|         GM|     draw|      null|            draw|     null|                    0|B31|2022-07-22T22:33:...| WorldChamp2018|\n",
            "|6dcc4b46-3155-47e...|         6|WCh 2018|London ENG| 2018.11.16|    6| Carlsen, Magnus|Caruana, Fabiano|1/2-1/2|     2835|     2832|         GM|         GM|     draw|      null|            draw|     null|                    0|C42|2022-07-22T22:33:...| WorldChamp2018|\n",
            "|c0c727cf-03ec-4b4...|         7|WCh 2018|London ENG| 2018.11.18|    7| Carlsen, Magnus|Caruana, Fabiano|1/2-1/2|     2835|     2832|         GM|         GM|     draw|      null|            draw|     null|                    0|D37|2022-07-22T22:33:...| WorldChamp2018|\n",
            "|4c14e044-cacc-405...|         8|WCh 2018|London ENG| 2018.11.19|    8|Caruana, Fabiano| Carlsen, Magnus|1/2-1/2|     2832|     2835|         GM|         GM|     draw|      null|            draw|     null|                    0|B33|2022-07-22T22:33:...| WorldChamp2018|\n",
            "|3f4eb26e-3cd1-43b...|         9|WCh 2018|London ENG| 2018.11.21|    9| Carlsen, Magnus|Caruana, Fabiano|1/2-1/2|     2835|     2832|         GM|         GM|     draw|      null|            draw|     null|                    0|A29|2022-07-22T22:33:...| WorldChamp2018|\n",
            "+--------------------+----------+--------+----------+-----------+-----+----------------+----------------+-------+---------+---------+-----------+-----------+---------+----------+----------------+---------+---------------------+---+--------------------+---------------+\n",
            "only showing top 20 rows\n",
            "\n"
          ]
        }
      ]
    },
    {
      "cell_type": "code",
      "source": [
        "chess_wc_game.head()"
      ],
      "metadata": {
        "id": "hYeIvxYDbqgN",
        "colab": {
          "base_uri": "https://localhost:8080/"
        },
        "outputId": "81500bf7-ded2-41ee-adfe-9f7a77662389"
      },
      "execution_count": 94,
      "outputs": [
        {
          "output_type": "execute_result",
          "data": {
            "text/plain": [
              "Row(game_id='86e0b7f5-7b94-4ae3-97c8-317371622795', game_order='1', event='WCh 2021', site='Dubai UAE', date_played='2021.11.26', round='1', white='Nepomniachtchi,I', black='Carlsen,M', result='1/2-1/2', white_elo='2782', black_elo='2855', white_title=None, black_title=None, winner='draw', winner_elo=None, loser='draw', loser_elo=None, winner_loser_elo_diff='0', eco='C88', date_created='2022-07-22T22:33:50+0000', tournament_name='WorldChamp2021')"
            ]
          },
          "metadata": {},
          "execution_count": 94
        }
      ]
    },
    {
      "cell_type": "code",
      "source": [
        "print(type(chess_wc_game))"
      ],
      "metadata": {
        "colab": {
          "base_uri": "https://localhost:8080/"
        },
        "id": "70wIKUFQ4j0y",
        "outputId": "5717f2b1-cc43-4dee-aef8-4c644de79b9c"
      },
      "execution_count": 95,
      "outputs": [
        {
          "output_type": "stream",
          "name": "stdout",
          "text": [
            "<class 'pyspark.sql.dataframe.DataFrame'>\n"
          ]
        }
      ]
    },
    {
      "cell_type": "code",
      "source": [
        "ques1=chess_wc_game.select(\"winner\",\"tournament_name\")"
      ],
      "metadata": {
        "id": "mFplYGYd4qe_"
      },
      "execution_count": 96,
      "outputs": []
    },
    {
      "cell_type": "code",
      "source": [
        "ques1.printSchema()\n"
      ],
      "metadata": {
        "id": "9kpDdhXf7U3E",
        "colab": {
          "base_uri": "https://localhost:8080/"
        },
        "outputId": "ffd08ef4-b631-4dca-87f2-bd0d0f2cf969"
      },
      "execution_count": 97,
      "outputs": [
        {
          "output_type": "stream",
          "name": "stdout",
          "text": [
            "root\n",
            " |-- winner: string (nullable = true)\n",
            " |-- tournament_name: string (nullable = true)\n",
            "\n"
          ]
        }
      ]
    },
    {
      "cell_type": "code",
      "source": [
        "ques1.head()"
      ],
      "metadata": {
        "colab": {
          "base_uri": "https://localhost:8080/"
        },
        "id": "ZA_EhMVpKBlE",
        "outputId": "ea474e15-ef7d-41e0-ece3-3b295c832d5a"
      },
      "execution_count": 98,
      "outputs": [
        {
          "output_type": "execute_result",
          "data": {
            "text/plain": [
              "Row(winner='draw', tournament_name='WorldChamp2021')"
            ]
          },
          "metadata": {},
          "execution_count": 98
        }
      ]
    },
    {
      "cell_type": "code",
      "source": [
        "ques1.show()"
      ],
      "metadata": {
        "colab": {
          "base_uri": "https://localhost:8080/"
        },
        "id": "dksL6pUTNDKm",
        "outputId": "aaa49234-b8e2-451a-d4b9-d2f981461fd8"
      },
      "execution_count": 99,
      "outputs": [
        {
          "output_type": "stream",
          "name": "stdout",
          "text": [
            "+---------+---------------+\n",
            "|   winner|tournament_name|\n",
            "+---------+---------------+\n",
            "|     draw| WorldChamp2021|\n",
            "|     draw| WorldChamp2021|\n",
            "|     draw| WorldChamp2021|\n",
            "|     draw| WorldChamp2021|\n",
            "|     draw| WorldChamp2021|\n",
            "|Carlsen,M| WorldChamp2021|\n",
            "|     draw| WorldChamp2021|\n",
            "|Carlsen,M| WorldChamp2021|\n",
            "|Carlsen,M| WorldChamp2021|\n",
            "|     draw| WorldChamp2021|\n",
            "|Carlsen,M| WorldChamp2021|\n",
            "|     draw| WorldChamp2018|\n",
            "|     draw| WorldChamp2018|\n",
            "|     draw| WorldChamp2018|\n",
            "|     draw| WorldChamp2018|\n",
            "|     draw| WorldChamp2018|\n",
            "|     draw| WorldChamp2018|\n",
            "|     draw| WorldChamp2018|\n",
            "|     draw| WorldChamp2018|\n",
            "|     draw| WorldChamp2018|\n",
            "+---------+---------------+\n",
            "only showing top 20 rows\n",
            "\n"
          ]
        }
      ]
    },
    {
      "cell_type": "code",
      "source": [
        "ques2=chess_wc_game.orderBy(chess_wc_game.white.desc())\n",
        "ques2.show()"
      ],
      "metadata": {
        "id": "-RPp0WhV4C4P",
        "outputId": "accfc1ec-823f-411d-eed7-d55b202fa6ae",
        "colab": {
          "base_uri": "https://localhost:8080/"
        }
      },
      "execution_count": 100,
      "outputs": [
        {
          "output_type": "stream",
          "name": "stdout",
          "text": [
            "+--------------------+----------+--------------------+-----------+-----------+-----+-----------------+-------------------+-------+---------+---------+-----------+-----------+-------------------+----------+-------------------+---------+---------------------+---+--------------------+---------------+\n",
            "|             game_id|game_order|               event|       site|date_played|round|            white|              black| result|white_elo|black_elo|white_title|black_title|             winner|winner_elo|              loser|loser_elo|winner_loser_elo_diff|eco|        date_created|tournament_name|\n",
            "+--------------------+----------+--------------------+-----------+-----------+-----+-----------------+-------------------+-------+---------+---------+-----------+-----------+-------------------+----------+-------------------+---------+---------------------+---+--------------------+---------------+\n",
            "|a1b5602c-4724-454...|       227|         FIDE WCh KO| Moscow RUS| 2001.11.29|  2.1|     Zvjaginsev,V|             Xu Jun|    1-0|     2640|     2654|       null|       null|       Zvjaginsev,V|      2640|             Xu Jun|     2654|                  -14|D30|2022-07-22T22:34:...|  FideChamp2002|\n",
            "|e22a9467-a5fb-4c4...|        25|         FIDE WCh KO|Tripoli LBA| 2004.06.19|  1.1|     Zvjaginsev,V|            Lima,Da|    1-0|     2654|     2542|       null|       null|       Zvjaginsev,V|      2654|            Lima,Da|     2542|                  112|A28|2022-07-22T22:34:...|  FideChamp2004|\n",
            "|1cd1126a-2eb5-46c...|       268|         FIDE WCh KO|Tripoli LBA| 2004.06.22|  2.4|     Zvjaginsev,V|      Wojtkiewicz,A|    1-0|     2654|     2559|       null|       null|       Zvjaginsev,V|      2654|      Wojtkiewicz,A|     2559|                   95|B50|2022-07-22T22:34:...|  FideChamp2004|\n",
            "|11a20a8e-6b3f-41e...|       314|         FIDE WCh KO| Moscow RUS| 2001.12.01|  3.1|     Zvjaginsev,V|           Adams,Mi|1/2-1/2|     2640|     2731|       null|       null|               draw|      null|               draw|     null|                    0|A17|2022-07-22T22:34:...|  FideChamp2002|\n",
            "|5b2f292e-e511-4a9...|       342|         FIDE WCh KO| Moscow RUS| 2001.12.02|  3.3|     Zvjaginsev,V|           Adams,Mi|    0-1|     2640|     2731|       null|       null|           Adams,Mi|      2731|       Zvjaginsev,V|     2640|                   91|A17|2022-07-22T22:34:...|  FideChamp2002|\n",
            "|d4a9bef7-2088-47f...|       236|         FIDE WCh KO|Tripoli LBA| 2004.06.22|  2.2|     Zvjaginsev,V|      Wojtkiewicz,A|1/2-1/2|     2654|     2559|       null|       null|               draw|      null|               draw|     null|                    0|B36|2022-07-22T22:34:...|  FideChamp2004|\n",
            "|bd00884b-0153-405...|       298|         FIDE WCh KO|Tripoli LBA| 2004.06.23|  3.1|     Zvjaginsev,V|        Krasenkow,M|1/2-1/2|     2654|     2609|       null|       null|               draw|      null|               draw|     null|                    0|D46|2022-07-22T22:34:...|  FideChamp2004|\n",
            "|18ae5bb7-ee2f-4c2...|       197|         FIDE WCh KO| Moscow RUS| 2001.11.28|  1.2|     Zvjaginsev,V|          Gdanski,J|    1-0|     2640|     2537|       null|       null|       Zvjaginsev,V|      2640|          Gdanski,J|     2537|                  103|B90|2022-07-22T22:34:...|  FideChamp2002|\n",
            "|00bdc5cb-22b3-4fc...|       272|FIDE-Wch k.o. g/2...|  Las Vegas| 1999.08.11|  4.3|Zvjaginsev, Vadim|      Polgar, Judit|    0-1|     2652|     2671|       null|       null|      Polgar, Judit|      2671|  Zvjaginsev, Vadim|     2652|                   19|E92|2022-07-22T22:34:...|  FideChamp1999|\n",
            "|e27ae850-fee4-4fd...|       199|       FIDE-Wch k.o.|  Groningen| 1997.12.14|  3.1|Zvjaginsev, Vadim|   Seirawan, Yasser|1/2-1/2|     2635|     2630|       null|       null|               draw|      null|               draw|     null|                    0|D63|2022-07-22T22:35:...|  FideChamp1998|\n",
            "|b2254ce9-e759-408...|       167|       FIDE-Wch k.o.|  Groningen| 1997.12.13|  2.4|Zvjaginsev, Vadim|Kaidanov, Grigory S|    0-1|     2635|     2600|       null|       null|Kaidanov, Grigory S|      2600|  Zvjaginsev, Vadim|     2635|                  -35|D46|2022-07-22T22:35:...|  FideChamp1998|\n",
            "|db137b85-d33d-4b9...|       225|       FIDE-Wch k.o.|  Groningen| 1997.12.16|  3.4|Zvjaginsev, Vadim|   Seirawan, Yasser|    1-0|     2635|     2630|       null|       null|  Zvjaginsev, Vadim|      2635|   Seirawan, Yasser|     2630|                    5|D63|2022-07-22T22:35:...|  FideChamp1998|\n",
            "|787390b2-cc6b-418...|       136|       FIDE-Wch k.o.|  Groningen| 1997.12.12|  2.2|Zvjaginsev, Vadim|Kaidanov, Grigory S|1/2-1/2|     2635|     2600|       null|       null|               draw|      null|               draw|     null|                    0|D45|2022-07-22T22:35:...|  FideChamp1998|\n",
            "|feedbd50-d067-4ad...|       177|FIDE-Wch k.o. g/2...|  Las Vegas| 1999.08.05|  2.4|Zvjaginsev, Vadim|     Andersson, Ulf|    1-0|     2652|     2623|       null|       null|  Zvjaginsev, Vadim|      2652|     Andersson, Ulf|     2623|                   29|E21|2022-07-22T22:34:...|  FideChamp1999|\n",
            "|4ba2e84d-cb46-4e7...|       175|       FIDE-Wch k.o.|  Groningen| 1997.12.13|  2.6|Zvjaginsev, Vadim|Kaidanov, Grigory S|    1-0|     2635|     2600|       null|       null|  Zvjaginsev, Vadim|      2635|Kaidanov, Grigory S|     2600|                   35|D46|2022-07-22T22:35:...|  FideChamp1998|\n",
            "|10f142ac-f2dc-4eb...|        35|       FIDE-Wch k.o.|  Groningen| 1997.12.10|  1.2|Zvjaginsev, Vadim|     Benjamin, Joel|1/2-1/2|     2635|     2580|       null|       null|               draw|      null|               draw|     null|                    0|D27|2022-07-22T22:35:...|  FideChamp1998|\n",
            "|07ad8c08-f80d-4b2...|       246|       FIDE-Wch k.o.|  Groningen| 1997.12.18|  4.2|Zvjaginsev, Vadim|      Dreev, Alexey|1/2-1/2|     2635|     2640|       null|       null|               draw|      null|               draw|     null|                    0|D45|2022-07-22T22:35:...|  FideChamp1998|\n",
            "|d3c63da8-b533-410...|       260|       FIDE-Wch k.o.|  Groningen| 1997.12.19|  4.3|Zvjaginsev, Vadim|      Dreev, Alexey|    0-1|     2635|     2640|       null|       null|      Dreev, Alexey|      2640|  Zvjaginsev, Vadim|     2635|                    5|D45|2022-07-22T22:35:...|  FideChamp1998|\n",
            "|21f44471-f0a2-4fd...|       256|       FIDE-Wch k.o.|  Las Vegas| 1999.08.10|  4.2|Zvjaginsev, Vadim|      Polgar, Judit|1/2-1/2|     2652|     2671|       null|       null|               draw|      null|               draw|     null|                    0|E20|2022-07-22T22:34:...|  FideChamp1999|\n",
            "|536879b9-b3b4-447...|       302|       FIDE-Wch k.o.|  Groningen| 1997.??.??|  1.5|Zvjaginsev, Vadim|     Benjamin, Joel|    1-0|     2635|     2580|       null|       null|  Zvjaginsev, Vadim|      2635|     Benjamin, Joel|     2580|                   55|A46|2022-07-22T22:35:...|  FideChamp1998|\n",
            "+--------------------+----------+--------------------+-----------+-----------+-----+-----------------+-------------------+-------+---------+---------+-----------+-----------+-------------------+----------+-------------------+---------+---------------------+---+--------------------+---------------+\n",
            "only showing top 20 rows\n",
            "\n"
          ]
        }
      ]
    },
    {
      "cell_type": "code",
      "source": [
        "from pyspark.sql.functions import concat,concat_ws\n",
        "spark=SparkSession.builder.appName(\"concate\").getOrCreate()\n",
        "player_name=chess_wc_game.select(concat(chess_wc_game.white,chess_wc_game.black).alias(\"Player_name\"))\n"
      ],
      "metadata": {
        "id": "9Mb3psS1NZ56"
      },
      "execution_count": 101,
      "outputs": []
    },
    {
      "cell_type": "code",
      "source": [
        "player_name.show()"
      ],
      "metadata": {
        "colab": {
          "base_uri": "https://localhost:8080/"
        },
        "id": "TcmOnQIvOLGr",
        "outputId": "66f090aa-3656-4d08-b025-d86e3cd44a0a"
      },
      "execution_count": 102,
      "outputs": [
        {
          "output_type": "stream",
          "name": "stdout",
          "text": [
            "+--------------------+\n",
            "|         Player_name|\n",
            "+--------------------+\n",
            "|Nepomniachtchi,IC...|\n",
            "|Carlsen,MNepomnia...|\n",
            "|Nepomniachtchi,IC...|\n",
            "|Carlsen,MNepomnia...|\n",
            "|Nepomniachtchi,IC...|\n",
            "|Carlsen,MNepomnia...|\n",
            "|Nepomniachtchi,IC...|\n",
            "|Carlsen,MNepomnia...|\n",
            "|Nepomniachtchi,IC...|\n",
            "|Carlsen,MNepomnia...|\n",
            "|Nepomniachtchi,IC...|\n",
            "|Caruana, FabianoC...|\n",
            "|Carlsen, MagnusCa...|\n",
            "|Caruana, FabianoC...|\n",
            "|Carlsen, MagnusCa...|\n",
            "|Caruana, FabianoC...|\n",
            "|Carlsen, MagnusCa...|\n",
            "|Carlsen, MagnusCa...|\n",
            "|Caruana, FabianoC...|\n",
            "|Carlsen, MagnusCa...|\n",
            "+--------------------+\n",
            "only showing top 20 rows\n",
            "\n"
          ]
        }
      ]
    },
    {
      "cell_type": "code",
      "source": [
        "Ecocodes=spark.read.csv(\"/content/chess/eco_codes.csv\",header=True)"
      ],
      "metadata": {
        "id": "g5CMHXe8OeRN"
      },
      "execution_count": 103,
      "outputs": []
    },
    {
      "cell_type": "code",
      "source": [
        "Ecocodes.show(6)"
      ],
      "metadata": {
        "colab": {
          "base_uri": "https://localhost:8080/"
        },
        "id": "NLHvf7j9PKl8",
        "outputId": "fdcac04e-e30e-4786-b255-4bd39f1bd398"
      },
      "execution_count": 104,
      "outputs": [
        {
          "output_type": "stream",
          "name": "stdout",
          "text": [
            "+---+--------------------+------------------+--------+---------+\n",
            "|eco|            eco_name|       eco_example|eco_type|eco_group|\n",
            "+---+--------------------+------------------+--------+---------+\n",
            "|A00|    Uncommon Opening|1 g4, a3, h3, etc.|       A|    Flank|\n",
            "|A01|Nimzovich-Larsen ...|              1 b3|       A|    Flank|\n",
            "|A02|      Bird's Opening|              1 f4|       A|    Flank|\n",
            "|A03|      Bird's Opening|           1 f4 d5|       A|    Flank|\n",
            "|A04|        Reti Opening|             1 Nf3|       A|    Flank|\n",
            "|A05|        Reti Opening|         1 Nf3 Nf6|       A|    Flank|\n",
            "+---+--------------------+------------------+--------+---------+\n",
            "only showing top 6 rows\n",
            "\n"
          ]
        }
      ]
    },
    {
      "cell_type": "code",
      "source": [
        "ques3=Ecocodes.select(\"eco\",\"eco_name\")\n"
      ],
      "metadata": {
        "id": "oALroHlCPb_H"
      },
      "execution_count": 105,
      "outputs": []
    },
    {
      "cell_type": "code",
      "source": [
        "ques3.show()\n"
      ],
      "metadata": {
        "colab": {
          "base_uri": "https://localhost:8080/"
        },
        "id": "lRML8hHQ2dOf",
        "outputId": "310bfd7d-f369-46d0-e4f3-0c79fb1e8673"
      },
      "execution_count": 106,
      "outputs": [
        {
          "output_type": "stream",
          "name": "stdout",
          "text": [
            "+---+--------------------+\n",
            "|eco|            eco_name|\n",
            "+---+--------------------+\n",
            "|A00|    Uncommon Opening|\n",
            "|A01|Nimzovich-Larsen ...|\n",
            "|A02|      Bird's Opening|\n",
            "|A03|      Bird's Opening|\n",
            "|A04|        Reti Opening|\n",
            "|A05|        Reti Opening|\n",
            "|A06|        Reti Opening|\n",
            "|A07|King's Indian Attack|\n",
            "|A08|King's Indian Attack|\n",
            "|A09|        Reti Opening|\n",
            "|A10|             English|\n",
            "|A11|English, Caro-Kan...|\n",
            "|A12|     English with b3|\n",
            "|A13|             English|\n",
            "|A14|             English|\n",
            "|A15|             English|\n",
            "|A16|             English|\n",
            "|A17|             English|\n",
            "|A18|English, Mikenas-...|\n",
            "|A19|English, Mikenas-...|\n",
            "+---+--------------------+\n",
            "only showing top 20 rows\n",
            "\n"
          ]
        }
      ]
    },
    {
      "cell_type": "code",
      "source": [
        "from pyspark.sql.functions import col,isnan,when,count"
      ],
      "metadata": {
        "id": "HOTf7sMj2ilM"
      },
      "execution_count": 107,
      "outputs": []
    },
    {
      "cell_type": "code",
      "source": [
        "from pyspark.sql.types import *\n",
        "ques3.groupBy('eco_name').count().show()\n"
      ],
      "metadata": {
        "colab": {
          "base_uri": "https://localhost:8080/"
        },
        "id": "9CN59Mjh2vfv",
        "outputId": "c010cc03-f802-4c0f-a79b-bce6ed98b81d"
      },
      "execution_count": 108,
      "outputs": [
        {
          "output_type": "stream",
          "name": "stdout",
          "text": [
            "+--------------------+-----+\n",
            "|            eco_name|count|\n",
            "+--------------------+-----+\n",
            "|   Grunfeld, Russian|    2|\n",
            "|Sicilian, Acceler...|    1|\n",
            "|       Three Knights|    1|\n",
            "|Ruy Lopez, Bird's...|    1|\n",
            "|King's Indian, Or...|    1|\n",
            "|King's Indian Def...|    1|\n",
            "|          Old Benoni|    1|\n",
            "|  Alekhine's Defense|    2|\n",
            "|    Sicilian, Alapin|    1|\n",
            "|Sicilian, Dragon,...|    1|\n",
            "|Dutch, Stonewall,...|    1|\n",
            "|Queen's Gambit De...|    1|\n",
            "|Catalan, Closed, ...|    1|\n",
            "|King's Indian, Fo...|    1|\n",
            "|Benoni, Classical...|    1|\n",
            "|Sicilian, Richter...|    1|\n",
            "|Sicilian, Fischer...|    1|\n",
            "|King's Gambit Acc...|    5|\n",
            "|King's Indian, Or...|    1|\n",
            "|Benoni, Classical...|    1|\n",
            "+--------------------+-----+\n",
            "only showing top 20 rows\n",
            "\n"
          ]
        }
      ]
    },
    {
      "cell_type": "code",
      "source": [
        "your_max_value = ques3.agg({\"eco_name\": \"max\"}).collect()[0][0]\n",
        "your_min_value = ques3.agg({\"eco_name\":\"min\"}).collect()[0][0]\n"
      ],
      "metadata": {
        "id": "nxMSWnZ431NX"
      },
      "execution_count": 109,
      "outputs": []
    },
    {
      "cell_type": "code",
      "source": [
        "your_max_value,your_min_value"
      ],
      "metadata": {
        "id": "nevf_A-w0NFR",
        "outputId": "f1a806b7-0f79-44ad-ed16-d59967e33e2f",
        "colab": {
          "base_uri": "https://localhost:8080/"
        }
      },
      "execution_count": 110,
      "outputs": [
        {
          "output_type": "execute_result",
          "data": {
            "text/plain": [
              "('Vienna Game', \"Alekhine's Defense\")"
            ]
          },
          "metadata": {},
          "execution_count": 110
        }
      ]
    },
    {
      "cell_type": "markdown",
      "source": [
        "Section 3"
      ],
      "metadata": {
        "id": "vCeNMSJ10vpt"
      }
    },
    {
      "cell_type": "code",
      "source": [
        "!pip install pydub"
      ],
      "metadata": {
        "id": "oKsJ4IRr0pu_",
        "outputId": "404ce81e-4f7d-4799-f6fc-6bbcb60e27d5",
        "colab": {
          "base_uri": "https://localhost:8080/"
        }
      },
      "execution_count": 111,
      "outputs": [
        {
          "output_type": "stream",
          "name": "stdout",
          "text": [
            "Looking in indexes: https://pypi.org/simple, https://us-python.pkg.dev/colab-wheels/public/simple/\n",
            "Requirement already satisfied: pydub in /usr/local/lib/python3.7/dist-packages (0.25.1)\n"
          ]
        }
      ]
    },
    {
      "cell_type": "code",
      "source": [
        "from google.colab import drive\n",
        "import os\n",
        "from pydub import AudioSegment\n",
        "from pydub.utils import make_chunks\n"
      ],
      "metadata": {
        "id": "IEnNfBOH02Gt"
      },
      "execution_count": 112,
      "outputs": []
    },
    {
      "cell_type": "code",
      "source": [
        "drive.mount('/content/gdrive')"
      ],
      "metadata": {
        "id": "us7yalpC0639",
        "outputId": "7cf1fcc2-1bc6-4efb-d77c-30fc3ff275fd",
        "colab": {
          "base_uri": "https://localhost:8080/"
        }
      },
      "execution_count": 113,
      "outputs": [
        {
          "output_type": "stream",
          "name": "stdout",
          "text": [
            "Drive already mounted at /content/gdrive; to attempt to forcibly remount, call drive.mount(\"/content/gdrive\", force_remount=True).\n"
          ]
        }
      ]
    },
    {
      "cell_type": "code",
      "source": [
        "os.mkdir(\"/content/gdrive/MyDrive/DE_SOLUTION_Ajay_Uppu/results\")"
      ],
      "metadata": {
        "id": "_rwJ64q-1TxI",
        "outputId": "ae3eb601-1f87-4e7d-97eb-aa19da103924",
        "colab": {
          "base_uri": "https://localhost:8080/",
          "height": 171
        }
      },
      "execution_count": 115,
      "outputs": [
        {
          "output_type": "error",
          "ename": "FileExistsError",
          "evalue": "ignored",
          "traceback": [
            "\u001b[0;31m---------------------------------------------------------------------------\u001b[0m",
            "\u001b[0;31mFileExistsError\u001b[0m                           Traceback (most recent call last)",
            "\u001b[0;32m<ipython-input-115-a646a4bd3d62>\u001b[0m in \u001b[0;36m<module>\u001b[0;34m\u001b[0m\n\u001b[0;32m----> 1\u001b[0;31m \u001b[0mos\u001b[0m\u001b[0;34m.\u001b[0m\u001b[0mmkdir\u001b[0m\u001b[0;34m(\u001b[0m\u001b[0;34m\"/content/gdrive/MyDrive/DE_SOLUTION_Ajay_Uppu/results\"\u001b[0m\u001b[0;34m)\u001b[0m\u001b[0;34m\u001b[0m\u001b[0;34m\u001b[0m\u001b[0m\n\u001b[0m",
            "\u001b[0;31mFileExistsError\u001b[0m: [Errno 17] File exists: '/content/gdrive/MyDrive/DE_SOLUTION_Ajay_Uppu/results'"
          ]
        }
      ]
    },
    {
      "cell_type": "code",
      "source": [
        "import pyspark\n",
        "from pyspark.sql import SparkSession"
      ],
      "metadata": {
        "id": "-JKYJVLs1-uX"
      },
      "execution_count": 116,
      "outputs": []
    },
    {
      "cell_type": "code",
      "source": [
        "pandasques1=ques1.toPandas()\n",
        "print(pandasques1)"
      ],
      "metadata": {
        "id": "MGAqr7pl2YCL",
        "outputId": "a4ded079-a42e-4442-e014-203585cc797f",
        "colab": {
          "base_uri": "https://localhost:8080/"
        }
      },
      "execution_count": 117,
      "outputs": [
        {
          "output_type": "stream",
          "name": "stdout",
          "text": [
            "                 winner tournament_name\n",
            "0                  draw  WorldChamp2021\n",
            "1                  draw  WorldChamp2021\n",
            "2                  draw  WorldChamp2021\n",
            "3                  draw  WorldChamp2021\n",
            "4                  draw  WorldChamp2021\n",
            "...                 ...             ...\n",
            "2933  Steinitz, William  WorldChamp1886\n",
            "2934               draw  WorldChamp1886\n",
            "2935  Steinitz, William  WorldChamp1886\n",
            "2936  Steinitz, William  WorldChamp1886\n",
            "2937  Steinitz, William  WorldChamp1886\n",
            "\n",
            "[2938 rows x 2 columns]\n"
          ]
        }
      ]
    },
    {
      "cell_type": "code",
      "source": [
        "pandasques2=ques2.toPandas()\n",
        "print(pandasques2)"
      ],
      "metadata": {
        "id": "bKZL42Dz2dAW",
        "outputId": "7523481b-6f73-485a-aa46-2b0be774a8a3",
        "colab": {
          "base_uri": "https://localhost:8080/"
        }
      },
      "execution_count": 118,
      "outputs": [
        {
          "output_type": "stream",
          "name": "stdout",
          "text": [
            "                                   game_id game_order        event  \\\n",
            "0     e22a9467-a5fb-4c45-815e-f54c80aeb933         25  FIDE WCh KO   \n",
            "1     d4a9bef7-2088-47ff-b3c3-d6e606d237b1        236  FIDE WCh KO   \n",
            "2     1cd1126a-2eb5-46c6-a8d2-96101cb2e462        268  FIDE WCh KO   \n",
            "3     bd00884b-0153-4051-8d8a-7f9dfcd4d754        298  FIDE WCh KO   \n",
            "4     18ae5bb7-ee2f-4c23-a9cd-c6d7e1d614c9        197  FIDE WCh KO   \n",
            "...                                    ...        ...          ...   \n",
            "2933  c990868b-fc4a-492f-9758-35bd228a953e        149  FIDE WCh KO   \n",
            "2934  3b07cae9-02bd-4d5c-ac4a-b7b98dfb543b        209  FIDE WCh KO   \n",
            "2935  336192e6-1e8d-43cc-9b2a-c6b39018efaa        271  FIDE WCh KO   \n",
            "2936  dbb1a520-ebc0-466c-8749-6669312790b3        287  FIDE WCh KO   \n",
            "2937  cd52f827-27d0-44d0-b6d5-fe1a59c25735         61  FIDE WCh KO   \n",
            "\n",
            "             site date_played round         white          black   result  \\\n",
            "0     Tripoli LBA  2004.06.19   1.1  Zvjaginsev,V        Lima,Da      1-0   \n",
            "1     Tripoli LBA  2004.06.22   2.2  Zvjaginsev,V  Wojtkiewicz,A  1/2-1/2   \n",
            "2     Tripoli LBA  2004.06.22   2.4  Zvjaginsev,V  Wojtkiewicz,A      1-0   \n",
            "3     Tripoli LBA  2004.06.23   3.1  Zvjaginsev,V    Krasenkow,M  1/2-1/2   \n",
            "4      Moscow RUS  2001.11.28   1.2  Zvjaginsev,V      Gdanski,J      1-0   \n",
            "...           ...         ...   ...           ...            ...      ...   \n",
            "2933  Tripoli LBA  2004.06.20   1.4         Acs,P     Nikolic,Pr  1/2-1/2   \n",
            "2934  Tripoli LBA  2004.06.21   2.1         Acs,P    Movsesian,S      1-0   \n",
            "2935  Tripoli LBA  2004.06.22   2.4         Acs,P    Movsesian,S      1-0   \n",
            "2936  Tripoli LBA  2004.06.22   2.6         Acs,P    Movsesian,S      0-1   \n",
            "2937  Tripoli LBA  2004.06.20   1.2     Abulhul,T      Topalov,V      0-1   \n",
            "\n",
            "     white_elo  ... white_title black_title        winner winner_elo  \\\n",
            "0         2654  ...        None        None  Zvjaginsev,V       2654   \n",
            "1         2654  ...        None        None          draw       None   \n",
            "2         2654  ...        None        None  Zvjaginsev,V       2654   \n",
            "3         2654  ...        None        None          draw       None   \n",
            "4         2640  ...        None        None  Zvjaginsev,V       2640   \n",
            "...        ...  ...         ...         ...           ...        ...   \n",
            "2933      2548  ...        None        None          draw       None   \n",
            "2934      2548  ...        None        None         Acs,P       2548   \n",
            "2935      2548  ...        None        None         Acs,P       2548   \n",
            "2936      2548  ...        None        None   Movsesian,S       2647   \n",
            "2937      2076  ...        None        None     Topalov,V       2737   \n",
            "\n",
            "              loser loser_elo winner_loser_elo_diff  eco  \\\n",
            "0           Lima,Da      2542                   112  A28   \n",
            "1              draw      None                     0  B36   \n",
            "2     Wojtkiewicz,A      2559                    95  B50   \n",
            "3              draw      None                     0  D46   \n",
            "4         Gdanski,J      2537                   103  B90   \n",
            "...             ...       ...                   ...  ...   \n",
            "2933           draw      None                     0  C18   \n",
            "2934    Movsesian,S      2647                   -99  D15   \n",
            "2935    Movsesian,S      2647                   -99  D15   \n",
            "2936          Acs,P      2548                    99  E69   \n",
            "2937      Abulhul,T      2076                   661  A37   \n",
            "\n",
            "                  date_created tournament_name  \n",
            "0     2022-07-22T22:34:00+0000   FideChamp2004  \n",
            "1     2022-07-22T22:34:01+0000   FideChamp2004  \n",
            "2     2022-07-22T22:34:02+0000   FideChamp2004  \n",
            "3     2022-07-22T22:34:02+0000   FideChamp2004  \n",
            "4     2022-07-22T22:34:19+0000   FideChamp2002  \n",
            "...                        ...             ...  \n",
            "2933  2022-07-22T22:34:01+0000   FideChamp2004  \n",
            "2934  2022-07-22T22:34:01+0000   FideChamp2004  \n",
            "2935  2022-07-22T22:34:02+0000   FideChamp2004  \n",
            "2936  2022-07-22T22:34:02+0000   FideChamp2004  \n",
            "2937  2022-07-22T22:34:00+0000   FideChamp2004  \n",
            "\n",
            "[2938 rows x 21 columns]\n"
          ]
        }
      ]
    },
    {
      "cell_type": "code",
      "source": [
        "pandasques3=ques3.toPandas()\n",
        "print(pandasques3)"
      ],
      "metadata": {
        "id": "eVMNmkGj2jJH",
        "outputId": "dc8db338-594d-4192-b13b-a21b3d887e80",
        "colab": {
          "base_uri": "https://localhost:8080/"
        }
      },
      "execution_count": 119,
      "outputs": [
        {
          "output_type": "stream",
          "name": "stdout",
          "text": [
            "     eco                                      eco_name\n",
            "0    A00                              Uncommon Opening\n",
            "1    A01                       Nimzovich-Larsen Attack\n",
            "2    A02                                Bird's Opening\n",
            "3    A03                                Bird's Opening\n",
            "4    A04                                  Reti Opening\n",
            "..   ...                                           ...\n",
            "495  E95      King's Indian, Orthodox, 7...Nbd7, 8.Re1\n",
            "496  E96  King's Indian, Orthodox, 7...Nbd7, Main line\n",
            "497  E97                                 King's Indian\n",
            "498  E98      King's Indian, Orthodox, Taimanov, 9.Ne1\n",
            "499  E99             King's Indian, Orthodox, Taimanov\n",
            "\n",
            "[500 rows x 2 columns]\n"
          ]
        }
      ]
    },
    {
      "cell_type": "code",
      "source": [
        "df1=pandasques1.to_csv('df1.csv')"
      ],
      "metadata": {
        "id": "r8Q9ZWoW5Bzb"
      },
      "execution_count": 120,
      "outputs": []
    },
    {
      "cell_type": "code",
      "source": [
        "df2=pandasques2.to_csv('df2.csv')"
      ],
      "metadata": {
        "id": "U7ttsM995F2q"
      },
      "execution_count": 121,
      "outputs": []
    },
    {
      "cell_type": "code",
      "source": [
        "df3=pandasques3.to_csv('df3.csv')"
      ],
      "metadata": {
        "id": "4e-5YUFi5I84"
      },
      "execution_count": 122,
      "outputs": []
    },
    {
      "cell_type": "code",
      "source": [
        ""
      ],
      "metadata": {
        "id": "t6MXB6M_5LX8"
      },
      "execution_count": null,
      "outputs": []
    }
  ]
}